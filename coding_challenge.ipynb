{
 "cells": [
  {
   "cell_type": "markdown",
   "metadata": {},
   "source": [
    "## Problem A: Given a list of 400 hexamers, find a new hexamer that is the most possible 'different' hexamer from that list of hexamers.\n"
   ]
  },
  {
   "cell_type": "markdown",
   "metadata": {},
   "source": [
    "### Function 1: frequency matrix"
   ]
  },
  {
   "cell_type": "code",
   "execution_count": 189,
   "metadata": {},
   "outputs": [],
   "source": [
    "def initiate_freq_matrix(data):\n",
    "    n = max(len(dna) for dna in data) # does not store lists in memory, better for longer lists\n",
    "    frequency_matrix = {\n",
    "            'A': [0]*n,\n",
    "            'C': [0]*n,\n",
    "            'G': [0]*n,\n",
    "            'T': [0]*n,\n",
    "            }\n",
    "    for dna in data:\n",
    "        for index, base in enumerate(dna):\n",
    "            frequency_matrix[base][index] += 1\n",
    "            \n",
    "    return frequency_matrix"
   ]
  },
  {
   "cell_type": "markdown",
   "metadata": {},
   "source": [
    "### Function 2: generate new kmer"
   ]
  },
  {
   "cell_type": "code",
   "execution_count": 190,
   "metadata": {},
   "outputs": [],
   "source": [
    "def generate_new_kmer(frequency_matrix):\n",
    "    dna_length = len(frequency_matrix['A']) \n",
    "    new_kmer = ''\n",
    "    for i in range(dna_length):\n",
    "        max_freq = 1024 # maximum amount of times nucleatide can be present\n",
    "                       # at a specific position\n",
    "                        # still need a proper function to calculate this\n",
    "                        # currently inputting this manually\n",
    "        freq_base = ''\n",
    "        for base in 'ACGT':\n",
    "            if frequency_matrix[base][i] < max_freq:\n",
    "                max_freq = frequency_matrix[base][i]\n",
    "                freq_base = base\n",
    "        new_kmer += freq_base\n",
    "    return new_kmer\n",
    "\n"
   ]
  },
  {
   "cell_type": "markdown",
   "metadata": {},
   "source": [
    "## Calculate"
   ]
  },
  {
   "cell_type": "markdown",
   "metadata": {},
   "source": [
    "#### Generate data (kmers):"
   ]
  },
  {
   "cell_type": "code",
   "execution_count": 202,
   "metadata": {},
   "outputs": [],
   "source": [
    "import itertools\n",
    "import random\n",
    "\n",
    "# generate all possible hexamers\n",
    "lst = list(itertools.product([\"A\", \"C\", \"G\", \"T\"], repeat=6))\n",
    "all_hexamers = []\n",
    "for i in lst:\n",
    "    all_hexamers.append(''.join(i))\n",
    "   \n",
    "# select 400 hexamers\n",
    "given_hexamers = random.sample(all_hexamers, 400)\n"
   ]
  },
  {
   "cell_type": "code",
   "execution_count": 200,
   "metadata": {},
   "outputs": [],
   "source": [
    "def calculate_new_kmer(all_hexamers, given_hexamers):\n",
    "    new_kmer_list = list(set(all_hexamers) - set(given_hexamers))\n",
    "    frequency_matrix = initiate_freq_matrix(new_kmer_list)\n",
    "    new_hexamer = generate_new_kmer(frequency_matrix)\n",
    "    return new_hexamer"
   ]
  },
  {
   "cell_type": "code",
   "execution_count": 201,
   "metadata": {},
   "outputs": [
    {
     "data": {
      "text/plain": [
       "'CGTGT'"
      ]
     },
     "execution_count": 201,
     "metadata": {},
     "output_type": "execute_result"
    }
   ],
   "source": [
    "calculate_new_kmer(all_hexamers, given_hexamers)\n"
   ]
  },
  {
   "cell_type": "markdown",
   "metadata": {},
   "source": [
    "## Problem B: suppose that we are concerned with DNA duplex hexamers, find also the most possible 'different' duplex hexamer?"
   ]
  },
  {
   "cell_type": "code",
   "execution_count": 194,
   "metadata": {},
   "outputs": [],
   "source": [
    "def dna_duplex_hexamer(all_hexamers, given_hexamers):\n",
    "    kmer = calculate_new_kmer(all_hexamers, given_hexamers)\n",
    "    complement = {'A': 'T', 'C': 'G', 'T': 'A', 'G': 'C'}\n",
    "    three_prime = \"\".join(complement[letter] for letter in kmer)\n",
    "    print (\"5'-3':\", kmer)\n",
    "    print (\"3'-5':\", three_prime)"
   ]
  },
  {
   "cell_type": "code",
   "execution_count": 195,
   "metadata": {},
   "outputs": [
    {
     "name": "stdout",
     "output_type": "stream",
     "text": [
      "5'-3': CTACTT\n",
      "3'-5': GATGAA\n"
     ]
    }
   ],
   "source": [
    "dna_duplex_hexamer(all_hexamers, given_hexamers)"
   ]
  },
  {
   "cell_type": "markdown",
   "metadata": {},
   "source": [
    "### Can your code work for longer k-mers?"
   ]
  },
  {
   "cell_type": "markdown",
   "metadata": {},
   "source": [
    "currently no. I suspect it has something to do with not being able to automatically calculate the \"max_freq\" (maximum amount of times any base at any position occurs) in function 2. It relies on manual changing the amount. Due to time constraints I could not look further into this. However, it does work for smaller kmers."
   ]
  },
  {
   "cell_type": "markdown",
   "metadata": {},
   "source": [
    "## DISCUSSION ON EXTENSION FEASIBILITY/STRATEGY:\n",
    "Suppose we wanted to find the most possible 'different' 20-mer in an entire genome (so the list is now all 20-mers in a whole genome!) - perhaps that's not even realistically possible...\n",
    "What (if any) are some strategies that you might employ in order to find the most possible 'different' (or at least a very 'different') 20-mer?"
   ]
  },
  {
   "cell_type": "markdown",
   "metadata": {},
   "source": [
    "This problem needs parallel running. The list of input 20mers would need to be split into different smaller subsets, the program run on each list, outputs merged, and reiterate. Until a optimal solution (most different 20mer) can be extracted. "
   ]
  },
  {
   "cell_type": "code",
   "execution_count": null,
   "metadata": {},
   "outputs": [],
   "source": []
  }
 ],
 "metadata": {
  "kernelspec": {
   "display_name": "Python 3",
   "language": "python",
   "name": "python3"
  },
  "language_info": {
   "codemirror_mode": {
    "name": "ipython",
    "version": 3
   },
   "file_extension": ".py",
   "mimetype": "text/x-python",
   "name": "python",
   "nbconvert_exporter": "python",
   "pygments_lexer": "ipython3",
   "version": "3.6.1"
  }
 },
 "nbformat": 4,
 "nbformat_minor": 2
}
